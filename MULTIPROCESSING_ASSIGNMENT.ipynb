{
 "cells": [
  {
   "cell_type": "markdown",
   "id": "41bc6e62-980a-4566-bdcd-d5689929dfbe",
   "metadata": {},
   "source": [
    "Q1. What is multiprocessing in python? Why is it useful?"
   ]
  },
  {
   "cell_type": "markdown",
   "id": "40f20b74-4109-4271-b560-24bf25fdc1b4",
   "metadata": {},
   "source": [
    "A1. Multiproocessing in python refer to the technique of executing or running ,more than one processes paralllely at the same time by utilizing the different processors .it is used to achive perallel execution ,better cpu utilization . By the technique of multiprocessing overall efficiency of system can be achived ,it saves time and increase fault tolerance ."
   ]
  },
  {
   "cell_type": "markdown",
   "id": "e2d210a5-39a2-40c5-98ce-86a9b338812a",
   "metadata": {},
   "source": [
    "Q2. What are the differences between multiprocessing and multithreading?"
   ]
  },
  {
   "cell_type": "markdown",
   "id": "e5f5725d-34e4-4271-b816-7c8b06f013a6",
   "metadata": {},
   "source": [
    "A2.In simple terms, multiprocessing involves running multiple separate processes, each with its own memory and Python interpreter, achieving true parallelism, which is great for tasks that need a lot of computing power. On the other hand, multithreading uses multiple threads within the same process that share memory but are limited by the Global Interpreter Lock (GIL) in Python, making it better for tasks involving I/O operations or simple concurrency."
   ]
  },
  {
   "cell_type": "markdown",
   "id": "af409257-7657-4357-a416-db6a8b6a4c2a",
   "metadata": {},
   "source": [
    "Q3. Write a python code to create a process using the multiprocessing module."
   ]
  },
  {
   "cell_type": "code",
   "execution_count": 2,
   "id": "169ec6e7-78a0-4ed9-91dc-b7a78aa01958",
   "metadata": {},
   "outputs": [
    {
     "name": "stdout",
     "output_type": "stream",
     "text": [
      "this is my 1 multiprocessing process\n",
      "this is my 2 multiprocessing process\n",
      "this is my 3 multiprocessing process\n",
      "this is my 4 multiprocessing process\n",
      "this is my 5 multiprocessing process\n",
      "this is my 6 multiprocessing process\n"
     ]
    }
   ],
   "source": [
    "import multiprocessing\n",
    "def prcs(a):\n",
    "    for i in a:\n",
    "        print(f'this is my {i} multiprocessing process')\n",
    "    \n",
    "if __name__=='__main__':\n",
    "    a=[1,2,3,4,5,6]\n",
    "    b=multiprocessing.Process(target=prcs,args=(a,))\n",
    "    b.start()"
   ]
  },
  {
   "cell_type": "markdown",
   "id": "c939c0ad-0e1e-4b17-8c78-4711e44d4f41",
   "metadata": {},
   "source": [
    "Q4. What is a multiprocessing pool in python? Why is it used?"
   ]
  },
  {
   "cell_type": "markdown",
   "id": "d5c85905-d0a6-4fe9-8f0d-f10c1d924167",
   "metadata": {},
   "source": [
    "A4. A multiprocessing pool in Python is a mechanism provided by the multiprocessing module that allows you to efficiently manage and distribute multiple processes for parallel execution. It is  particularly useful when you want to perform a specific function or task concurrently on a large dataset or a set of items."
   ]
  },
  {
   "cell_type": "markdown",
   "id": "fd641fab-18a3-4f0e-af7c-757a55716e4a",
   "metadata": {},
   "source": [
    "Q5. How can we create a pool of worker processes in python using the multiprocessing module?"
   ]
  },
  {
   "cell_type": "code",
   "execution_count": 9,
   "id": "734393e2-5e1c-4c8e-abfb-2ad948304aa9",
   "metadata": {},
   "outputs": [
    {
     "name": "stdout",
     "output_type": "stream",
     "text": [
      "worker name is 1 \n",
      "worker name is 3 \n",
      "worker name is 5 \n",
      "worker name is 4 \n",
      "worker name is 2 \n",
      "\n",
      "\n",
      "\n",
      "\n",
      "\n",
      "None\n",
      "None\n",
      "None\n",
      "None\n",
      "None\n"
     ]
    }
   ],
   "source": [
    "import multiprocessing\n",
    "def worker(a):\n",
    "    print(f\"worker name is {a} \\n\")\n",
    "    \n",
    "if __name__=='__main__':\n",
    "    process_size=multiprocessing.cpu_count()\n",
    "    with multiprocessing.Pool(processes=process_size) as pool:\n",
    "        b=pool.map(worker,(1,2,3,4,5))\n",
    "    for j in b:\n",
    "        print(j)"
   ]
  },
  {
   "cell_type": "markdown",
   "id": "9d9361ca-cd9d-439f-924e-11932dae9389",
   "metadata": {},
   "source": [
    "Q6. Write a python program to create 4 processes, each process should print a different number using the\n",
    "multiprocessing module in python."
   ]
  },
  {
   "cell_type": "code",
   "execution_count": 13,
   "id": "d68767f9-e00c-4334-8a90-580a9531dc69",
   "metadata": {},
   "outputs": [
    {
     "name": "stdout",
     "output_type": "stream",
     "text": [
      " processes 1 \n",
      " processes 3 \n",
      " processes 4 \n",
      " processes 2 \n",
      "\n",
      "\n",
      "\n",
      "\n",
      "[None, None, None, None]\n"
     ]
    }
   ],
   "source": [
    "import multiprocessing \n",
    "def prcs(a):\n",
    "    print(f' processes {a} \\n')\n",
    "    \n",
    "if __name__=='__main__':\n",
    "    with multiprocessing.Pool(processes=4) as pool:\n",
    "        a=pool.map(prcs,[1,2,3,4])\n",
    "        print(a)"
   ]
  },
  {
   "cell_type": "code",
   "execution_count": 14,
   "id": "87af8e88-547e-4715-85f0-d290dc9b2457",
   "metadata": {},
   "outputs": [
    {
     "name": "stdout",
     "output_type": "stream",
     "text": [
      "Process 1: 1Process 0: 0Process 2: 2Process 3: 3\n",
      "\n",
      "\n",
      "\n",
      "All processes have finished.\n"
     ]
    }
   ],
   "source": [
    "def print_number(number):\n",
    "    print(f\"Process {number}: {number}\")\n",
    "\n",
    "if __name__ == \"__main__\":\n",
    "    # Create a pool with 4 worker processes\n",
    "    pool_size = 4\n",
    "    with multiprocessing.Pool(processes=pool_size) as pool:\n",
    "        # Map the print_number function to the pool to process numbers from 0 to 3\n",
    "        pool.map(print_number, range(4))\n",
    "\n",
    "    print(\"All processes have finished.\")"
   ]
  },
  {
   "cell_type": "code",
   "execution_count": null,
   "id": "4dcf2d75-2cde-44e1-a183-e8335d486324",
   "metadata": {},
   "outputs": [],
   "source": []
  }
 ],
 "metadata": {
  "kernelspec": {
   "display_name": "Python 3 (ipykernel)",
   "language": "python",
   "name": "python3"
  },
  "language_info": {
   "codemirror_mode": {
    "name": "ipython",
    "version": 3
   },
   "file_extension": ".py",
   "mimetype": "text/x-python",
   "name": "python",
   "nbconvert_exporter": "python",
   "pygments_lexer": "ipython3",
   "version": "3.10.8"
  }
 },
 "nbformat": 4,
 "nbformat_minor": 5
}
